{
  "nbformat": 4,
  "nbformat_minor": 0,
  "metadata": {
    "colab": {
      "provenance": []
    },
    "kernelspec": {
      "name": "python3",
      "display_name": "Python 3"
    },
    "language_info": {
      "name": "python"
    }
  },
  "cells": [
    {
      "cell_type": "markdown",
      "source": [
        "1. What are data structures, and why are they important?\n",
        "\n",
        " Answer: Data structures are ways to organize and store data in a computer to use it efficiently. They are important because they help in managing data effectively, improving performance, enabling faster access and modification, and supporting optimal use of memory and resources.\n",
        "\n",
        "2. Explain the difference between mutable and immutable data types with examples?\n",
        "\n",
        " Answer: Mutable data types allow their contents (data) to be changed after they are created. Example are list, dict, set. Immutable data types cannot be changed after creation. Example are int, str, tuple.\n",
        "\n",
        "3. What are the main differences between lists and tuples in Python?\n",
        "\n",
        " Answer: Lists are mutable, slower, and use square brackets [ ].\n",
        "Tuples are immutable, faster, and use parentheses ( ).\n",
        "\n",
        "4. Describe how dictionaries store data?\n",
        "\n",
        " Answer: A dictionary stores data as key-value pairs. Each key is unique and it repesents a value.\n",
        "\n",
        "5. Why might you use a set instead of a list in Python?\n",
        "\n",
        " Answer: Set automatically removes duplicates. Sets support mathematical operations like union, intersection, and difference, which are not directly supported by lists.\n",
        "\n",
        "6. What is a string in Python, and how is it different from a list?\n",
        "\n",
        " Answer: A string is an immutable sequence of characters in Python.\n",
        " A list is a mutable sequence that can hold elements of any type.\n",
        "\n",
        " Key difference: Strings can’t be changed after creation, while lists can.\n",
        "\n",
        "7.  How do tuples ensure data integrity in Python?\n",
        "\n",
        " Answer: Tuples ensure data integrity in Python by being immutable, meaning their contents cannot be changed after creation. This prevents accidental modification, keeping the data fixed and reliable.\n",
        "\n",
        "8. What is a hash table, and how does it relate to dictionaries in Python?\n",
        "\n",
        " Answer: A hash table is a data structure that stores key-value pairs and uses a hash function to compute an index (hash) where the value is stored. This allows for very fast data lookup, insertion, and deletion—typically in constant time (O(1)).\n",
        "\n",
        " In Python, dictionaries are implemented using hash tables. When you use a dictionary, Python hashes the keys to quickly find or store values, making dictionary operations very efficient.\n",
        "\n",
        "9. Can lists contain different data types in Python?\n",
        "\n",
        " Answer: Yes, lists in Python can contain different data types together.\n",
        "\n",
        "10. Explain why strings are immutable in Python.\n",
        "\n",
        " Answer: Strings are immutable in Python to ensure data integrity and security. Because strings often represent fixed data like text or keys, immutability prevents accidental changes that could cause bugs.\n",
        "\n",
        " Additionally, immutability allows Python to optimize memory usage by reusing string objects (string interning) and makes strings thread-safe in concurrent programs.\n",
        "\n",
        "11. What advantages do dictionaries offer over lists for certain tasks?\n",
        "\n",
        " Answer: Dictionaries offer several advantages over lists for certain tasks:\n",
        "\n",
        " 1) Fast Lookups: Dictionaries use keys for direct access, making lookups on average O(1), while lists require searching which is O(n).\n",
        "\n",
        " 2) Key-Value Pairing: Dictionaries store data as key-value pairs, allowing you to associate meaningful keys with values instead of relying on numeric indexes.\n",
        "\n",
        " 3) Uniqueness of Keys: Keys in dictionaries are unique, preventing duplicate entries for the same key.\n",
        "\n",
        " 4) Flexible Access: You can access data by key rather than by position, which is more intuitive for many applications (e.g., user profiles by username).\n",
        "\n",
        " 5) Efficient Updates: Modifying or adding entries by key is faster and clearer than searching through a list.   \n",
        "\n",
        "12. Describe a scenario where using a tuple would be preferable over a list?\n",
        "\n",
        " Answer: A tuple is preferable over a list when you need to store a fixed set of values that should not change throughout the program.\n",
        "\n",
        "13. How do sets handle duplicate values in Python?\n",
        "\n",
        " Answer: In Python, sets automatically remove duplicate values. When you add elements to a set, any duplicates are ignored, so the set only keeps unique items.\n",
        "\n",
        "14.  How does the 'in' keyword work differently for lists and dictionaries?\n",
        "\n",
        " Answer:The 'in' keyword works differently for lists and dictionaries:\n",
        "\n",
        " In lists: Checks if a value exists.\n",
        "\n",
        " 2 in [1, 2, 3]  ----->>> True\n",
        "\n",
        " In dictionaries: Checks if a key exists, not a value.\n",
        "\n",
        " 'age' in {'age': 30, 'name': 'Alice'}   True\n",
        "\n",
        " 30 in {'age': 30, 'name': 'Alice'}      False\n",
        "\n",
        "15. Can you modify the elements of a tuple? Explain why or why not?\n",
        "\n",
        " Answer: No, you cannot modify the elements of a tuple in Python because tuples are immutable.\n",
        "\n",
        " Once a tuple is created, its contents (elements) cannot be changed, added, or removed. This immutability helps ensure data integrity, allows tuples to be used as dictionary keys, and can improve performance in certain cases.\n",
        "\n",
        "16. What is a nested dictionary, and give an example of its use case?\n",
        "\n",
        " Answer: A nested dictionary is a dictionary where values are other dictionaries. It’s used to represent structured or hierarchical data.\n",
        "\n",
        "17. Describe the time complexity of accessing elements in a dictionary?\n",
        "\n",
        " Answer: The average time complexity of accessing elements in a dictionary is O(1), and the worst case is O(n) due to possible hash collisions.\n",
        "\n",
        "18.  In what situations are lists preferred over dictionaries?\n",
        "\n",
        " Answer: Lists are preferred when you need ordered, indexed data, allow duplicates, and work with simple sequences where fast key-based lookup isn’t required.\n",
        "\n",
        "19. Why are dictionaries considered unordered, and how does that affect data retrieval?\n",
        "\n",
        " Answer: Dictionaries were historically considered unordered because they didn’t guarantee the order of keys when iterating. This meant the order of items could change and was unpredictable.\n",
        "\n",
        " Effect on data retrieval: Retrieval by key is fast and unaffected by order.\n",
        "\n",
        "20. Explain the difference between a list and a dictionary in terms of data retrieval.\n",
        "\n",
        " Answer: Lists retrieve data by index (position), which can be slower to search.\n",
        "Dictionaries retrieve data by key, offering fast, direct access.  \n",
        "\n",
        "\n",
        "\n",
        "\n",
        "\n",
        "\n",
        "\n",
        "\n",
        "\n",
        "  \n",
        "\n",
        "\n",
        "\n",
        "\n",
        "\n",
        "\n",
        "\n",
        "\n",
        "\n",
        "\n",
        "\n",
        "\n",
        "\n",
        "\n",
        "\n",
        "\n",
        "\n",
        "\n",
        "\n",
        "\n",
        "\n",
        "\n",
        "\n",
        "\n"
      ],
      "metadata": {
        "id": "Bkj7528oeUZr"
      }
    },
    {
      "cell_type": "code",
      "source": [
        "\"\"\" Practical Questions \"\"\"\n",
        "\n",
        "#1. Write a code to create a string with your name and print it.\n",
        "#Code:\n",
        "name = \"Abhishek\"\n",
        "print(name)"
      ],
      "metadata": {
        "colab": {
          "base_uri": "https://localhost:8080/"
        },
        "id": "y839NZ5_nMCy",
        "outputId": "f37c4416-1571-42bc-f6f7-8c486c6f72d1"
      },
      "execution_count": 4,
      "outputs": [
        {
          "output_type": "stream",
          "name": "stdout",
          "text": [
            "Abhishek\n"
          ]
        }
      ]
    },
    {
      "cell_type": "code",
      "source": [
        "#2. Write a code to find the length of the string \"Hello World\".\n",
        "#Code:\n",
        "string = \"Hello World\"\n",
        "len(string)"
      ],
      "metadata": {
        "colab": {
          "base_uri": "https://localhost:8080/"
        },
        "id": "KpZ5djjRnpKe",
        "outputId": "90840d95-69e3-437b-b4bf-92c63006216d"
      },
      "execution_count": 5,
      "outputs": [
        {
          "output_type": "execute_result",
          "data": {
            "text/plain": [
              "11"
            ]
          },
          "metadata": {},
          "execution_count": 5
        }
      ]
    },
    {
      "cell_type": "code",
      "source": [
        "#3. Write a code to slice the first 3 characters from the string \"Python Programming\"?\n",
        "#Code:\n",
        "string = \"Python Programming\"\n",
        "string[:3]"
      ],
      "metadata": {
        "colab": {
          "base_uri": "https://localhost:8080/",
          "height": 35
        },
        "id": "VzVmJBm0oAZg",
        "outputId": "f59baf86-8a47-40c9-a075-18b7a9b84dd7"
      },
      "execution_count": 6,
      "outputs": [
        {
          "output_type": "execute_result",
          "data": {
            "text/plain": [
              "'Pyt'"
            ],
            "application/vnd.google.colaboratory.intrinsic+json": {
              "type": "string"
            }
          },
          "metadata": {},
          "execution_count": 6
        }
      ]
    },
    {
      "cell_type": "code",
      "source": [
        "#4. Write a code to convert the string \"hello\" to uppercase?\n",
        "#Code:\n",
        "a = \"hello\"\n",
        "a.upper()"
      ],
      "metadata": {
        "colab": {
          "base_uri": "https://localhost:8080/",
          "height": 35
        },
        "id": "ixLlPRY5pMau",
        "outputId": "77d65985-30b3-4f19-a598-3a2370051935"
      },
      "execution_count": 8,
      "outputs": [
        {
          "output_type": "execute_result",
          "data": {
            "text/plain": [
              "'HELLO'"
            ],
            "application/vnd.google.colaboratory.intrinsic+json": {
              "type": "string"
            }
          },
          "metadata": {},
          "execution_count": 8
        }
      ]
    },
    {
      "cell_type": "code",
      "source": [
        "#5. Write a code to replace the word \"apple\" with \"orange\" in the string \"I like apple\"\n",
        "#Code:\n",
        "text = \"I like apple\"\n",
        "text.replace(\"apple\", \"orange\")"
      ],
      "metadata": {
        "colab": {
          "base_uri": "https://localhost:8080/",
          "height": 35
        },
        "id": "vVln1TSQpqWD",
        "outputId": "240cb1e2-5e8f-4403-8647-d67f758694f8"
      },
      "execution_count": 9,
      "outputs": [
        {
          "output_type": "execute_result",
          "data": {
            "text/plain": [
              "'I like orange'"
            ],
            "application/vnd.google.colaboratory.intrinsic+json": {
              "type": "string"
            }
          },
          "metadata": {},
          "execution_count": 9
        }
      ]
    },
    {
      "cell_type": "code",
      "source": [
        "#6. Write a code to create a list with numbers 1 to 5 and print it.\n",
        "#Code:\n",
        "s = [1, 2, 3, 4, 5]\n",
        "print(s)"
      ],
      "metadata": {
        "colab": {
          "base_uri": "https://localhost:8080/"
        },
        "id": "w_Q-YC73qoZ8",
        "outputId": "7f1d8e1d-d981-49c7-a600-0f904927634d"
      },
      "execution_count": 10,
      "outputs": [
        {
          "output_type": "stream",
          "name": "stdout",
          "text": [
            "[1, 2, 3, 4, 5]\n"
          ]
        }
      ]
    },
    {
      "cell_type": "code",
      "source": [
        "#7. Write a code to append the number 10 to the list [1, 2, 3, 4].\n",
        "#Code:\n",
        "a = [1, 2, 3, 4]\n",
        "a.append(10)\n",
        "print(a)"
      ],
      "metadata": {
        "colab": {
          "base_uri": "https://localhost:8080/"
        },
        "id": "FkezIDofrNv1",
        "outputId": "fcd7a896-e8ad-4dc3-d52d-0d4719ec9eff"
      },
      "execution_count": 11,
      "outputs": [
        {
          "output_type": "stream",
          "name": "stdout",
          "text": [
            "[1, 2, 3, 4, 10]\n"
          ]
        }
      ]
    },
    {
      "cell_type": "code",
      "source": [
        "#8. Write a code to remove the number 3 from the list [1, 2, 3, 4, 5].\n",
        "#Code:\n",
        "a = [1, 2, 3, 4, 5]\n",
        "a.remove(3)\n",
        "print(a)"
      ],
      "metadata": {
        "colab": {
          "base_uri": "https://localhost:8080/"
        },
        "id": "WeSnXaRDrjZW",
        "outputId": "cdf54c03-deaf-4194-f8af-981f497f2f44"
      },
      "execution_count": 12,
      "outputs": [
        {
          "output_type": "stream",
          "name": "stdout",
          "text": [
            "[1, 2, 4, 5]\n"
          ]
        }
      ]
    },
    {
      "cell_type": "code",
      "source": [
        "#9. Write a code to access the second element in the list ['a', 'b', 'c', 'd'].\n",
        "#Code:\n",
        "a = ['a', 'b', 'c', 'd']\n",
        "a[1]\n"
      ],
      "metadata": {
        "colab": {
          "base_uri": "https://localhost:8080/",
          "height": 35
        },
        "id": "xTBpsHZgrzL_",
        "outputId": "5ff9a653-e250-4627-ec8c-903885b4b33f"
      },
      "execution_count": 14,
      "outputs": [
        {
          "output_type": "execute_result",
          "data": {
            "text/plain": [
              "'b'"
            ],
            "application/vnd.google.colaboratory.intrinsic+json": {
              "type": "string"
            }
          },
          "metadata": {},
          "execution_count": 14
        }
      ]
    },
    {
      "cell_type": "code",
      "source": [
        "#10. Write a code to reverse the list [10, 20, 30, 40, 50].\n",
        "#Code:\n",
        "a = [10, 20, 30, 40, 50]\n",
        "a.reverse()\n",
        "print(a)"
      ],
      "metadata": {
        "colab": {
          "base_uri": "https://localhost:8080/"
        },
        "id": "A_IumSSVsE4n",
        "outputId": "4e4cab5b-2b16-45bf-c9c8-25e574387e09"
      },
      "execution_count": 15,
      "outputs": [
        {
          "output_type": "stream",
          "name": "stdout",
          "text": [
            "[50, 40, 30, 20, 10]\n"
          ]
        }
      ]
    },
    {
      "cell_type": "code",
      "source": [
        "#11. Write a code to create a tuple with the elements 100, 200, 300 and print it.\n",
        "#Code:\n",
        "a = (\"100\",\"200\", \"300\")\n",
        "print(a)"
      ],
      "metadata": {
        "colab": {
          "base_uri": "https://localhost:8080/"
        },
        "id": "Fi384IRssa7V",
        "outputId": "5a40fda4-c893-4c91-f26a-098ce442b377"
      },
      "execution_count": 16,
      "outputs": [
        {
          "output_type": "stream",
          "name": "stdout",
          "text": [
            "('100', '200', '300')\n"
          ]
        }
      ]
    },
    {
      "cell_type": "code",
      "source": [
        "#12. Write a code to access the second-to-last element of the tuple ('red', 'green', 'blue', 'yellow').\n",
        "#Code:\n",
        "t = ('red', 'green', 'blue', 'yellow')\n",
        "t[1:]"
      ],
      "metadata": {
        "colab": {
          "base_uri": "https://localhost:8080/"
        },
        "id": "84Nos9gn5AmN",
        "outputId": "747ffe8f-b89a-4754-ea0a-ed9c195c8e91"
      },
      "execution_count": 17,
      "outputs": [
        {
          "output_type": "execute_result",
          "data": {
            "text/plain": [
              "('green', 'blue', 'yellow')"
            ]
          },
          "metadata": {},
          "execution_count": 17
        }
      ]
    },
    {
      "cell_type": "code",
      "source": [
        "#13. Write a code to find the minimum number in the tuple (10, 20, 5, 15).\n",
        "#Code:\n",
        "t = (10, 20, 5, 15)\n",
        "min(t)"
      ],
      "metadata": {
        "colab": {
          "base_uri": "https://localhost:8080/"
        },
        "id": "wMZYNYHF5c4b",
        "outputId": "01d0193e-7f35-4e10-bfda-cde64257b865"
      },
      "execution_count": 20,
      "outputs": [
        {
          "output_type": "execute_result",
          "data": {
            "text/plain": [
              "5"
            ]
          },
          "metadata": {},
          "execution_count": 20
        }
      ]
    },
    {
      "cell_type": "code",
      "source": [
        "#14. Write a code to find the index of the element \"cat\" in the tuple ('dog', 'cat', 'rabbit').\n",
        "#Code:\n",
        "t = ('dog', 'cat', 'rabbit')\n",
        "t.index(\"cat\")"
      ],
      "metadata": {
        "colab": {
          "base_uri": "https://localhost:8080/"
        },
        "id": "JVRhcmLU5ypc",
        "outputId": "7daec9fb-e32e-41f5-8a0f-90040d1824d4"
      },
      "execution_count": 21,
      "outputs": [
        {
          "output_type": "execute_result",
          "data": {
            "text/plain": [
              "1"
            ]
          },
          "metadata": {},
          "execution_count": 21
        }
      ]
    },
    {
      "cell_type": "code",
      "source": [
        "#15. Write a code to create a tuple containing three different fruits and check if \"kiwi\" is in it.\n",
        "#Code:\n",
        "f = (\"Banana\", \"Chikku\", \"Orange\")\n",
        "\"kiwi\" in (f)"
      ],
      "metadata": {
        "colab": {
          "base_uri": "https://localhost:8080/"
        },
        "id": "1zSWwabX6bHc",
        "outputId": "d1a42416-50d7-4666-d094-655794ba8158"
      },
      "execution_count": 23,
      "outputs": [
        {
          "output_type": "execute_result",
          "data": {
            "text/plain": [
              "False"
            ]
          },
          "metadata": {},
          "execution_count": 23
        }
      ]
    },
    {
      "cell_type": "code",
      "source": [
        "#16. Write a code to create a set with the elements 'a', 'b', 'c' and print it.\n",
        "#Code:\n",
        "s = {'a', 'b', 'c'}\n",
        "print(s)\n"
      ],
      "metadata": {
        "colab": {
          "base_uri": "https://localhost:8080/"
        },
        "id": "NPP2wNut60Oc",
        "outputId": "15567c52-4dd8-47be-ce68-9ec7cb35d573"
      },
      "execution_count": 27,
      "outputs": [
        {
          "output_type": "stream",
          "name": "stdout",
          "text": [
            "{'c', 'b', 'a'}\n"
          ]
        }
      ]
    },
    {
      "cell_type": "code",
      "source": [
        "#17. Write a code to clear all elements from the set {1, 2, 3, 4, 5}.\n",
        "#Code:\n",
        "k = {'1', '2', '3', '4', '5'}\n",
        "k.clear()"
      ],
      "metadata": {
        "id": "Rwo_Z-mE7KLI"
      },
      "execution_count": 28,
      "outputs": []
    },
    {
      "cell_type": "code",
      "source": [
        "#18. Write a code to remove the element 4 from the set {1, 2, 3, 4}.\n",
        "#Code:\n",
        "a = {1, 2, 3, 4}\n",
        "a.remove(4)\n",
        "print(a)"
      ],
      "metadata": {
        "colab": {
          "base_uri": "https://localhost:8080/"
        },
        "id": "tDrLkPrg72aW",
        "outputId": "16dc9663-1034-4ab6-b802-096de9cdeb64"
      },
      "execution_count": 29,
      "outputs": [
        {
          "output_type": "stream",
          "name": "stdout",
          "text": [
            "{1, 2, 3}\n"
          ]
        }
      ]
    },
    {
      "cell_type": "code",
      "source": [
        "#19. Write a code to find the union of two sets {1, 2, 3} and {3, 4, 5}.\n",
        "#Code:\n",
        "a = {1, 2, 3}\n",
        "b = {3, 4, 5}\n",
        "a | b\n"
      ],
      "metadata": {
        "colab": {
          "base_uri": "https://localhost:8080/"
        },
        "id": "xoGgtKsJ8LIe",
        "outputId": "5e3a14de-bacd-4b7f-9767-dc4340de0a93"
      },
      "execution_count": 31,
      "outputs": [
        {
          "output_type": "execute_result",
          "data": {
            "text/plain": [
              "{1, 2, 3, 4, 5}"
            ]
          },
          "metadata": {},
          "execution_count": 31
        }
      ]
    },
    {
      "cell_type": "code",
      "source": [
        "#20. Write a code to find the intersection of two sets {1, 2, 3} and {2, 3, 4}.\n",
        "#Code:\n",
        "a = {1, 2, 3}\n",
        "b = {2, 3, 4}\n",
        "a & b"
      ],
      "metadata": {
        "colab": {
          "base_uri": "https://localhost:8080/"
        },
        "id": "EdNKdovX8i7m",
        "outputId": "64c1ed29-5f71-4fd7-a9da-dd8c0d317fd2"
      },
      "execution_count": 32,
      "outputs": [
        {
          "output_type": "execute_result",
          "data": {
            "text/plain": [
              "{2, 3}"
            ]
          },
          "metadata": {},
          "execution_count": 32
        }
      ]
    },
    {
      "cell_type": "code",
      "source": [
        "#21. Write a code to create a dictionary with the keys \"name\", \"age\", and \"city\", and print it.\n",
        "#Code:\n",
        "a = {\"name\": \"Abhishek\", \"age\": 25, \"city\": \"Delhi\"}\n",
        "print(a)"
      ],
      "metadata": {
        "colab": {
          "base_uri": "https://localhost:8080/"
        },
        "id": "-ZS3T70U83xe",
        "outputId": "0d84125c-8695-4595-e8dc-e44928244965"
      },
      "execution_count": 33,
      "outputs": [
        {
          "output_type": "stream",
          "name": "stdout",
          "text": [
            "{'name': 'Abhishek', 'age': 25, 'city': 'Delhi'}\n"
          ]
        }
      ]
    },
    {
      "cell_type": "code",
      "source": [
        "#22. Write a code to add a new key-value pair \"country\": \"USA\" to the dictionary {'name': 'John', 'age': 25}.\n",
        "#Code:\n",
        "a = {'name': 'John', 'age': 25}\n",
        "a[\"country\"] = \"USA\"\n",
        "print(a)"
      ],
      "metadata": {
        "colab": {
          "base_uri": "https://localhost:8080/"
        },
        "id": "kLuie3U69a2q",
        "outputId": "72034fae-9ca0-4ac4-b94f-b8d7db34d6e2"
      },
      "execution_count": 34,
      "outputs": [
        {
          "output_type": "stream",
          "name": "stdout",
          "text": [
            "{'name': 'John', 'age': 25, 'country': 'USA'}\n"
          ]
        }
      ]
    },
    {
      "cell_type": "code",
      "source": [
        "#23. Write a code to access the value associated with the key \"name\" in the dictionary {'name': 'Alice', 'age': 30}.\n",
        "#Code:\n",
        "a = {'name': 'Alice', 'age': 30}\n",
        "a[\"name\"]"
      ],
      "metadata": {
        "colab": {
          "base_uri": "https://localhost:8080/",
          "height": 35
        },
        "id": "yUqM7vUN93vt",
        "outputId": "aa1d92ce-b57b-4c76-c5c3-69010c5307ad"
      },
      "execution_count": 37,
      "outputs": [
        {
          "output_type": "execute_result",
          "data": {
            "text/plain": [
              "'Alice'"
            ],
            "application/vnd.google.colaboratory.intrinsic+json": {
              "type": "string"
            }
          },
          "metadata": {},
          "execution_count": 37
        }
      ]
    },
    {
      "cell_type": "code",
      "source": [
        "#24. Write a code to remove the key \"age\" from the dictionary {'name': 'Bob', 'age': 22, 'city': 'New York'}.\n",
        "#Code:\n",
        "a = {'name': 'Bob', 'age': 22, 'city': 'New York'}\n",
        "del a[\"age\"]\n",
        "print(a)"
      ],
      "metadata": {
        "colab": {
          "base_uri": "https://localhost:8080/"
        },
        "id": "FcmlTirS-dA3",
        "outputId": "99fd8c1d-1dda-4ef0-b104-21ac06bf7352"
      },
      "execution_count": 39,
      "outputs": [
        {
          "output_type": "stream",
          "name": "stdout",
          "text": [
            "{'name': 'Bob', 'city': 'New York'}\n"
          ]
        }
      ]
    },
    {
      "cell_type": "code",
      "source": [
        "#25. Write a code to check if the key \"city\" exists in the dictionary {'name': 'Alice', 'city': 'Paris'}.\n",
        "#Code:\n",
        "a = {'name': 'Alice', 'city': 'Paris'}\n",
        "\"city\" in a"
      ],
      "metadata": {
        "colab": {
          "base_uri": "https://localhost:8080/"
        },
        "id": "DQgqxGp5_UV-",
        "outputId": "fffa1880-ddce-44e7-d358-b7d978cd275a"
      },
      "execution_count": 40,
      "outputs": [
        {
          "output_type": "execute_result",
          "data": {
            "text/plain": [
              "True"
            ]
          },
          "metadata": {},
          "execution_count": 40
        }
      ]
    },
    {
      "cell_type": "code",
      "source": [
        "#26. Write a code to create a list, a tuple, and a dictionary, and print them all.\n",
        "#Code:\n",
        "a = [1, 2, 3]\n",
        "b = (1, 2, 3)\n",
        "c = {\"name\": \"Abhishek\", \"age\": 25, \"city\": \"Delhi\"}\n",
        "print(a)\n",
        "print(b)\n",
        "print(c)\n"
      ],
      "metadata": {
        "colab": {
          "base_uri": "https://localhost:8080/"
        },
        "id": "GFWdv9z4_rvX",
        "outputId": "a9cb80fa-4b31-4fa5-f4e8-d459ff38b3bb"
      },
      "execution_count": 42,
      "outputs": [
        {
          "output_type": "stream",
          "name": "stdout",
          "text": [
            "[1, 2, 3]\n",
            "(1, 2, 3)\n",
            "{'name': 'Abhishek', 'age': 25, 'city': 'Delhi'}\n"
          ]
        }
      ]
    },
    {
      "cell_type": "code",
      "source": [
        "#27. Write a code to create a list of 5 random numbers between 1 and 100, sort it in ascending order, and print the result.(replaced)\n",
        "#Code:\n",
        "import random\n",
        "a = [random.randint(1, 100) for _ in range(5)]\n",
        "a.sort()\n",
        "print(a)\n"
      ],
      "metadata": {
        "colab": {
          "base_uri": "https://localhost:8080/"
        },
        "id": "FOxIhotTAE1T",
        "outputId": "409226e2-9def-4015-871b-f0de19de2797"
      },
      "execution_count": 47,
      "outputs": [
        {
          "output_type": "stream",
          "name": "stdout",
          "text": [
            "[19, 76, 82, 84, 94]\n"
          ]
        }
      ]
    },
    {
      "cell_type": "code",
      "source": [
        "#28. Write a code to create a list with strings and print the element at the third index.\n",
        "#Code:\n",
        "a = ['India', 'USA', 'Germany', 'Japan']\n",
        "a[3]"
      ],
      "metadata": {
        "colab": {
          "base_uri": "https://localhost:8080/",
          "height": 35
        },
        "id": "bmIHVZ1qAu9Y",
        "outputId": "ce83c305-0228-47df-84f5-24a88a6cf25b"
      },
      "execution_count": 50,
      "outputs": [
        {
          "output_type": "execute_result",
          "data": {
            "text/plain": [
              "'Japan'"
            ],
            "application/vnd.google.colaboratory.intrinsic+json": {
              "type": "string"
            }
          },
          "metadata": {},
          "execution_count": 50
        }
      ]
    },
    {
      "cell_type": "code",
      "source": [
        "#29. Write a code to combine two dictionaries into one and print the result.\n",
        "#Code:\n",
        "a = {'name': 'Abhishek', 'age': 25}\n",
        "b = {'city': 'Delhi', 'country': 'India'}\n",
        "a.update(b)\n",
        "print(a)\n"
      ],
      "metadata": {
        "colab": {
          "base_uri": "https://localhost:8080/"
        },
        "id": "kLqYdpIyBPiO",
        "outputId": "7940557e-f959-4ccd-8922-4722fc8381c8"
      },
      "execution_count": 51,
      "outputs": [
        {
          "output_type": "stream",
          "name": "stdout",
          "text": [
            "{'name': 'Abhishek', 'age': 25, 'city': 'Delhi', 'country': 'India'}\n"
          ]
        }
      ]
    },
    {
      "cell_type": "code",
      "source": [
        "#30. Write a code to convert a list of strings into a set.\n",
        "#Code:\n",
        "a = ['India', 'USA', 'Germany', 'Japan']\n",
        "set(a)\n",
        "\n"
      ],
      "metadata": {
        "colab": {
          "base_uri": "https://localhost:8080/"
        },
        "id": "ZZY6bevXBnZt",
        "outputId": "8b9a4142-83eb-4c46-dd75-1fde9c4192a1"
      },
      "execution_count": 52,
      "outputs": [
        {
          "output_type": "execute_result",
          "data": {
            "text/plain": [
              "{'Germany', 'India', 'Japan', 'USA'}"
            ]
          },
          "metadata": {},
          "execution_count": 52
        }
      ]
    }
  ]
}